{
  "nbformat": 4,
  "nbformat_minor": 0,
  "metadata": {
    "colab": {
      "name": "Docstrings_and_Annotations.ipynb",
      "provenance": [],
      "authorship_tag": "ABX9TyMODdetttkDKRwDpvLVYC7l",
      "include_colab_link": true
    },
    "kernelspec": {
      "name": "python3",
      "display_name": "Python 3"
    },
    "language_info": {
      "name": "python"
    }
  },
  "cells": [
    {
      "cell_type": "markdown",
      "metadata": {
        "id": "view-in-github",
        "colab_type": "text"
      },
      "source": [
        "<a href=\"https://colab.research.google.com/github/TheCrysp/psychic-broccoli/blob/main/Docstrings_and_Annotations.ipynb\" target=\"_parent\"><img src=\"https://colab.research.google.com/assets/colab-badge.svg\" alt=\"Open In Colab\"/></a>"
      ]
    },
    {
      "cell_type": "code",
      "metadata": {
        "id": "33s6oxn6brVh"
      },
      "source": [
        "def somefn(a,b):\n",
        "  \"\"\"\n",
        "  A is string.\n",
        "\n",
        "  B is int\n",
        "  \"\"\"\n",
        "  return \"Nothing!\"\n",
        "  "
      ],
      "execution_count": 1,
      "outputs": []
    },
    {
      "cell_type": "code",
      "metadata": {
        "colab": {
          "base_uri": "https://localhost:8080/",
          "height": 35
        },
        "id": "0ns2A7_nb_YT",
        "outputId": "dbb33caa-7482-4438-dc96-654c6922fc4b"
      },
      "source": [
        "somefn(\"hehe\", 87)"
      ],
      "execution_count": 2,
      "outputs": [
        {
          "output_type": "execute_result",
          "data": {
            "application/vnd.google.colaboratory.intrinsic+json": {
              "type": "string"
            },
            "text/plain": [
              "'Nothing!'"
            ]
          },
          "metadata": {},
          "execution_count": 2
        }
      ]
    },
    {
      "cell_type": "code",
      "metadata": {
        "colab": {
          "base_uri": "https://localhost:8080/"
        },
        "id": "GfCVbuM0cE9l",
        "outputId": "4a68f475-b663-4394-95ae-3c7aeb95b98d"
      },
      "source": [
        "help(somefn)"
      ],
      "execution_count": 3,
      "outputs": [
        {
          "output_type": "stream",
          "name": "stdout",
          "text": [
            "Help on function somefn in module __main__:\n",
            "\n",
            "somefn(a, b)\n",
            "    A is string.\n",
            "    \n",
            "    B is int\n",
            "\n"
          ]
        }
      ]
    },
    {
      "cell_type": "code",
      "metadata": {
        "id": "PD2ctqGVcHs2"
      },
      "source": [
        "def myfn(a:\"a is int\", b:\"b is int too\") -> \"will retyrb it\":\n",
        "  return a+b "
      ],
      "execution_count": 4,
      "outputs": []
    },
    {
      "cell_type": "code",
      "metadata": {
        "colab": {
          "base_uri": "https://localhost:8080/"
        },
        "id": "0aHi904FdSjK",
        "outputId": "0b675475-4394-48eb-d339-5cca3b48357c"
      },
      "source": [
        "myfn(5,8)"
      ],
      "execution_count": 5,
      "outputs": [
        {
          "output_type": "execute_result",
          "data": {
            "text/plain": [
              "13"
            ]
          },
          "metadata": {},
          "execution_count": 5
        }
      ]
    },
    {
      "cell_type": "code",
      "metadata": {
        "colab": {
          "base_uri": "https://localhost:8080/"
        },
        "id": "VyunwOIydXTj",
        "outputId": "5aac3287-6dc1-4deb-8937-bcb7f8d864e9"
      },
      "source": [
        "help(myfn)"
      ],
      "execution_count": 6,
      "outputs": [
        {
          "output_type": "stream",
          "name": "stdout",
          "text": [
            "Help on function myfn in module __main__:\n",
            "\n",
            "myfn(a: 'a is int', b: 'b is int too') -> 'will retyrb it'\n",
            "\n"
          ]
        }
      ]
    },
    {
      "cell_type": "code",
      "metadata": {
        "colab": {
          "base_uri": "https://localhost:8080/"
        },
        "id": "89rOW3osdZyU",
        "outputId": "aaadc2db-f40d-4336-b424-c241b9a6a9b1"
      },
      "source": [
        "myfn.__annotations__\n"
      ],
      "execution_count": 10,
      "outputs": [
        {
          "output_type": "execute_result",
          "data": {
            "text/plain": [
              "{'a': 'a is int', 'b': 'b is int too', 'return': 'will retyrb it'}"
            ]
          },
          "metadata": {},
          "execution_count": 10
        }
      ]
    },
    {
      "cell_type": "code",
      "metadata": {
        "id": "VJQEkFIHddcK"
      },
      "source": [
        ""
      ],
      "execution_count": null,
      "outputs": []
    }
  ]
}