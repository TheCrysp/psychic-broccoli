{
  "nbformat": 4,
  "nbformat_minor": 0,
  "metadata": {
    "colab": {
      "name": "Lambdas_and_Sorting.ipynb",
      "provenance": [],
      "authorship_tag": "ABX9TyOh9Pt+wSR9IfzevPYASozm",
      "include_colab_link": true
    },
    "kernelspec": {
      "name": "python3",
      "display_name": "Python 3"
    },
    "language_info": {
      "name": "python"
    }
  },
  "cells": [
    {
      "cell_type": "markdown",
      "metadata": {
        "id": "view-in-github",
        "colab_type": "text"
      },
      "source": [
        "<a href=\"https://colab.research.google.com/github/TheCrysp/psychic-broccoli/blob/main/Lambdas_and_Sorting.ipynb\" target=\"_parent\"><img src=\"https://colab.research.google.com/assets/colab-badge.svg\" alt=\"Open In Colab\"/></a>"
      ]
    },
    {
      "cell_type": "code",
      "metadata": {
        "colab": {
          "base_uri": "https://localhost:8080/"
        },
        "id": "eCZFAl4_o_uG",
        "outputId": "6221e84d-19f7-457d-e27c-39234e1d1171"
      },
      "source": [
        "help(sorted)"
      ],
      "execution_count": 1,
      "outputs": [
        {
          "output_type": "stream",
          "name": "stdout",
          "text": [
            "Help on built-in function sorted in module builtins:\n",
            "\n",
            "sorted(iterable, /, *, key=None, reverse=False)\n",
            "    Return a new list containing all items from the iterable in ascending order.\n",
            "    \n",
            "    A custom key function can be supplied to customize the sort order, and the\n",
            "    reverse flag can be set to request the result in descending order.\n",
            "\n"
          ]
        }
      ]
    },
    {
      "cell_type": "code",
      "metadata": {
        "id": "uACeLLuCpIqZ"
      },
      "source": [
        "listy = [2,64,12,6,7,35,23,64,78]"
      ],
      "execution_count": 2,
      "outputs": []
    },
    {
      "cell_type": "code",
      "metadata": {
        "colab": {
          "base_uri": "https://localhost:8080/"
        },
        "id": "bH4iWrocpTUG",
        "outputId": "1dec6c15-16e4-4be6-e76e-f104e73abef8"
      },
      "source": [
        "sorted(listy)"
      ],
      "execution_count": 3,
      "outputs": [
        {
          "output_type": "execute_result",
          "data": {
            "text/plain": [
              "[2, 6, 7, 12, 23, 35, 64, 64, 78]"
            ]
          },
          "metadata": {},
          "execution_count": 3
        }
      ]
    },
    {
      "cell_type": "code",
      "metadata": {
        "id": "l25lwIVBpWlf"
      },
      "source": [
        "charlisty = ['A','S','D','F','G','a','s','d','f','g']"
      ],
      "execution_count": 4,
      "outputs": []
    },
    {
      "cell_type": "code",
      "metadata": {
        "colab": {
          "base_uri": "https://localhost:8080/"
        },
        "id": "8djhxY6vrUMz",
        "outputId": "9261a393-e075-43b7-8be3-9bb02df07c2f"
      },
      "source": [
        "sorted(charlisty)"
      ],
      "execution_count": 5,
      "outputs": [
        {
          "output_type": "execute_result",
          "data": {
            "text/plain": [
              "['A', 'D', 'F', 'G', 'S', 'a', 'd', 'f', 'g', 's']"
            ]
          },
          "metadata": {},
          "execution_count": 5
        }
      ]
    },
    {
      "cell_type": "code",
      "metadata": {
        "colab": {
          "base_uri": "https://localhost:8080/"
        },
        "id": "fwkl3dzTrW1b",
        "outputId": "49130627-3a30-4f24-83c7-15e4bac34330"
      },
      "source": [
        "ord('B')"
      ],
      "execution_count": 9,
      "outputs": [
        {
          "output_type": "execute_result",
          "data": {
            "text/plain": [
              "66"
            ]
          },
          "metadata": {},
          "execution_count": 9
        }
      ]
    },
    {
      "cell_type": "code",
      "metadata": {
        "colab": {
          "base_uri": "https://localhost:8080/"
        },
        "id": "rFhDM5jgrdYv",
        "outputId": "3bf53410-e339-4844-975f-f01801b55670"
      },
      "source": [
        "ord('a')"
      ],
      "execution_count": 8,
      "outputs": [
        {
          "output_type": "execute_result",
          "data": {
            "text/plain": [
              "97"
            ]
          },
          "metadata": {},
          "execution_count": 8
        }
      ]
    },
    {
      "cell_type": "code",
      "metadata": {
        "colab": {
          "base_uri": "https://localhost:8080/"
        },
        "id": "VEGDWRdyrhEP",
        "outputId": "599bce81-b227-4db1-df45-b0f0944a56df"
      },
      "source": [
        "sorted(charlisty, key=lambda s:s.upper())"
      ],
      "execution_count": 10,
      "outputs": [
        {
          "output_type": "execute_result",
          "data": {
            "text/plain": [
              "['A', 'a', 'D', 'd', 'F', 'f', 'G', 'g', 'S', 's']"
            ]
          },
          "metadata": {},
          "execution_count": 10
        }
      ]
    },
    {
      "cell_type": "code",
      "metadata": {
        "colab": {
          "base_uri": "https://localhost:8080/"
        },
        "id": "XGdHmyZKr6rw",
        "outputId": "6df442bc-c324-4111-c588-ca93c0ccf7d6"
      },
      "source": [
        "sorted(charlisty, key=lambda s:s.lower())"
      ],
      "execution_count": 11,
      "outputs": [
        {
          "output_type": "execute_result",
          "data": {
            "text/plain": [
              "['A', 'a', 'D', 'd', 'F', 'f', 'G', 'g', 'S', 's']"
            ]
          },
          "metadata": {},
          "execution_count": 11
        }
      ]
    },
    {
      "cell_type": "code",
      "metadata": {
        "id": "3tJlsDNGr9uJ"
      },
      "source": [
        "d = {'def':574, 'rew':900, 'rfd':52, 'are':600}"
      ],
      "execution_count": 12,
      "outputs": []
    },
    {
      "cell_type": "code",
      "metadata": {
        "colab": {
          "base_uri": "https://localhost:8080/"
        },
        "id": "J67aHX5OsRup",
        "outputId": "49898f7e-c860-4f3a-a707-bd7a42ab00ec"
      },
      "source": [
        "sorted(d)"
      ],
      "execution_count": 13,
      "outputs": [
        {
          "output_type": "execute_result",
          "data": {
            "text/plain": [
              "['are', 'def', 'rew', 'rfd']"
            ]
          },
          "metadata": {},
          "execution_count": 13
        }
      ]
    },
    {
      "cell_type": "code",
      "metadata": {
        "colab": {
          "base_uri": "https://localhost:8080/"
        },
        "id": "E_3R9mfssTEw",
        "outputId": "4005972f-78b3-4b27-be01-a33de09620c8"
      },
      "source": [
        "sorted(d, key=lambda e: d[e])"
      ],
      "execution_count": 14,
      "outputs": [
        {
          "output_type": "execute_result",
          "data": {
            "text/plain": [
              "['rfd', 'def', 'are', 'rew']"
            ]
          },
          "metadata": {},
          "execution_count": 14
        }
      ]
    },
    {
      "cell_type": "code",
      "metadata": {
        "id": "HYywI--ZsihF"
      },
      "source": [
        "nicee = [2, 6, 7, 12, 23, 35, 64, 64, 78]\n"
      ],
      "execution_count": 21,
      "outputs": []
    },
    {
      "cell_type": "code",
      "metadata": {
        "id": "9sCeupmguI1L"
      },
      "source": [
        "import random\n"
      ],
      "execution_count": 22,
      "outputs": []
    },
    {
      "cell_type": "code",
      "metadata": {
        "colab": {
          "base_uri": "https://localhost:8080/"
        },
        "id": "Av8v4WD9uakT",
        "outputId": "d74fd25a-3d31-4617-8fb7-338bf6e2146d"
      },
      "source": [
        "sorted(nicee, key=lambda x:random.random())\n"
      ],
      "execution_count": 25,
      "outputs": [
        {
          "output_type": "execute_result",
          "data": {
            "text/plain": [
              "[7, 78, 6, 35, 2, 64, 12, 64, 23]"
            ]
          },
          "metadata": {},
          "execution_count": 25
        }
      ]
    },
    {
      "cell_type": "code",
      "metadata": {
        "id": "UljYyANUunsx"
      },
      "source": [
        "  "
      ],
      "execution_count": null,
      "outputs": []
    }
  ]
}